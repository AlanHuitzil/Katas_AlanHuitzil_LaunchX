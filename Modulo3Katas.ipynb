{
  "cells": [
    {
      "cell_type": "markdown",
      "metadata": {},
      "source": [
        "#### Primer problema"
      ]
    },
    {
      "cell_type": "code",
      "execution_count": 2,
      "metadata": {},
      "outputs": [
        {
          "name": "stdout",
          "output_type": "stream",
          "text": [
            "¡Sigue con tu día!\n"
          ]
        }
      ],
      "source": [
        "\n",
        "asteroide = 15\n",
        "if asteroide > 25:\n",
        "    print('¡Alerta! ¡Un asteroide se acerca a velocidades peligrosas!')\n",
        "else:\n",
        "    print('¡Sigue con tu día!')"
      ]
    },
    {
      "cell_type": "markdown",
      "metadata": {},
      "source": [
        "#### Segundo problema"
      ]
    },
    {
      "cell_type": "code",
      "execution_count": 3,
      "metadata": {},
      "outputs": [
        {
          "name": "stdout",
          "output_type": "stream",
          "text": [
            "Look up! ¡Hay una luz mágica en el cielo!\n"
          ]
        }
      ],
      "source": [
        "\n",
        "asteroide = 20\n",
        "if asteroide > 20:\n",
        "    print('Look up! ¡Hay una luz mágica en el cielo!')\n",
        "elif asteroide == 20:\n",
        "    print('Look up! ¡Hay una luz mágica en el cielo!')\n",
        "else:\n",
        "    print('¡Nada que ver aquí!')"
      ]
    },
    {
      "cell_type": "markdown",
      "metadata": {},
      "source": [
        "#### Problema No. 3"
      ]
    },
    {
      "cell_type": "code",
      "execution_count": 4,
      "metadata": {},
      "outputs": [
        {
          "name": "stdout",
          "output_type": "stream",
          "text": [
            "¡Alerta, Un asteroide muy peligroso viene hacia la Tierra!\n"
          ]
        }
      ],
      "source": [
        "\n",
        "velocidad_asteroide = 100\n",
        "tamano_asteroide = 100\n",
        "if velocidad_asteroide > 25 and tamano_asteroide > 25:\n",
        "    print('¡Alerta, Un asteroide muy peligroso viene hacia la Tierra!')\n",
        "elif velocidad_asteroide >= 20:\n",
        "    print('Look up! ¡Hay una luz mágica en el cielo!')\n",
        "elif tamano_asteroide < 25:\n",
        "    print('Nada que ver aquí :)')\n",
        "else:\n",
        "    print('Nada que ver aquí :)')"
      ]
    }
  ],
  "metadata": {
    "interpreter": {
      "hash": "916dbcbb3f70747c44a77c7bcd40155683ae19c65e1c03b4aa3499c5328201f1"
    },
    "kernel_info": {
      "name": "conda-env-py37_default-py"
    },
    "kernelspec": {
      "display_name": "py37_default",
      "language": "python",
      "name": "python3"
    },
    "language_info": {
      "codemirror_mode": {
        "name": "ipython",
        "version": 3
      },
      "file_extension": ".py",
      "mimetype": "text/x-python",
      "name": "python",
      "nbconvert_exporter": "python",
      "pygments_lexer": "ipython3",
      "version": "3.10.2"
    },
    "nteract": {
      "version": "nteract-front-end@1.0.0"
    },
    "orig_nbformat": 4
  },
  "nbformat": 4,
  "nbformat_minor": 2
}
