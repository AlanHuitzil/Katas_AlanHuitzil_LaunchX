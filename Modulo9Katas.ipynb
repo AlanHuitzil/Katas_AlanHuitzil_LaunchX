{
  "cells": [
    {
      "cell_type": "markdown",
      "metadata": {},
      "source": [
        "# Ejercicio: Uso de funciones en Python"
      ]
    },
    {
      "cell_type": "code",
      "execution_count": 1,
      "metadata": {},
      "outputs": [],
      "source": [
        "def combustible(tanque1, tanque2, tanque3):\n",
        "    promedio = (tanque1 + tanque2 + tanque3) / 3\n",
        "    return f\"\"\"Informe:\n",
        "    Promedio de combustible: {promedio}%\n",
        "    Tanque 1: {tanque1}%\n",
        "    Tanque 2: {tanque2}%\n",
        "    Tanque 3: {tanque3}% \n",
        "    \"\"\"\n",
        "\n"
      ]
    },
    {
      "cell_type": "markdown",
      "metadata": {},
      "source": [
        "Ahora que hemos definido la función de informes, vamos a comprobarlo. Para esta misión, los tanques no están llenos:"
      ]
    },
    {
      "cell_type": "code",
      "execution_count": 2,
      "metadata": {},
      "outputs": [
        {
          "name": "stdout",
          "output_type": "stream",
          "text": [
            "Informe:\n",
            "    Promedio de combustible: 78.33333333333333%\n",
            "    Tanque 1: 80%\n",
            "    Tanque 2: 70%\n",
            "    Tanque 3: 85% \n",
            "    \n"
          ]
        }
      ],
      "source": [
        "\n",
        "print(combustible(80, 70, 85))"
      ]
    },
    {
      "cell_type": "markdown",
      "metadata": {},
      "source": [
        "En lugar de simplemente crear el informe, la función también está calculando el promedio. Mejora la legibilidad extrayendo el cálculo promedio de la función en una nueva función para que el promedio se pueda hacer de forma independiente:"
      ]
    },
    {
      "cell_type": "code",
      "execution_count": 3,
      "metadata": {},
      "outputs": [
        {
          "data": {
            "text/plain": [
              "82.0"
            ]
          },
          "execution_count": 3,
          "metadata": {},
          "output_type": "execute_result"
        }
      ],
      "source": [
        "def promedio(values):\n",
        "    total = sum(values)\n",
        "    number_of_items = len(values)\n",
        "    return total / number_of_items\n",
        "\n",
        "# Test the averaging function with a list of integers:\n",
        "promedio([80, 85, 81]) "
      ]
    },
    {
      "cell_type": "markdown",
      "metadata": {},
      "source": [
        "Ahora actualiza la función de informes para llamando a la nueva función del promedio:\n"
      ]
    },
    {
      "cell_type": "code",
      "execution_count": 4,
      "metadata": {},
      "outputs": [
        {
          "name": "stdout",
          "output_type": "stream",
          "text": [
            "Informe:\n",
            "    Promedio de combustible: 78.0%\n",
            "    Tanque 1 : 88%\n",
            "    Tanque 2: 76%\n",
            "    Tanque 3: 70% \n",
            "    \n"
          ]
        }
      ],
      "source": [
        "\n",
        "def combustible(tanque1, tanque2, tanque3):\n",
        "    return f\"\"\"Informe:\n",
        "    Promedio de combustible: {promedio([tanque1, tanque2, tanque3])}%\n",
        "    Tanque 1 : {tanque1}%\n",
        "    Tanque 2: {tanque2}%\n",
        "    Tanque 3: {tanque3}% \n",
        "    \"\"\"\n",
        "\n",
        "print(combustible(88, 76, 70))"
      ]
    },
    {
      "cell_type": "markdown",
      "metadata": {},
      "source": [
        "## Ejercicio 2: Trabajo con argumentos de palabra clave"
      ]
    },
    {
      "cell_type": "markdown",
      "metadata": {},
      "source": [
        "### Ejercicio : Trabajar con argumentos de palabras clave en funciones\n",
        "En este ejercicio, construirás un informe de cohete que requiere varias piezas de información, como el tiempo hasta el destino, el combustible a la izquierda y el nombre del destino. Comienza por crear una función que creará un informe preciso de la misión:"
      ]
    },
    {
      "cell_type": "code",
      "execution_count": 6,
      "metadata": {},
      "outputs": [
        {
          "name": "stdout",
          "output_type": "stream",
          "text": [
            "\n",
            "    Misión hacia la Luna\n",
            "    Tiempo total de vuelo: 65 minutos\n",
            "    Combustible restante: 500000 galones\n",
            "    \n"
          ]
        }
      ],
      "source": [
        "def reporte(tiempo_pre_lanzamiento, tiempo_de_vuelo, destino, tanque_externo, tanque_principal):\n",
        "    return f\"\"\"\n",
        "    Misión hacia la {destino}\n",
        "    Tiempo total de vuelo: {tiempo_pre_lanzamiento + tiempo_de_vuelo} minutos\n",
        "    Combustible restante: {tanque_externo + tanque_principal} galones\n",
        "    \"\"\"\n",
        "\n",
        "print(reporte(14, 51, \"Luna\", 200000, 300000))"
      ]
    },
    {
      "cell_type": "markdown",
      "metadata": {},
      "source": [
        "La función es problemática porque no se puede adaptar para minutos adicionales o tanques adicionales de combustible. Hazlo más flexible permitiendo cualquier número de pasos basados en el tiempo y cualquier número de tanques. En lugar de usar `*args` y `**kwargs`, aprovecha el hecho de que puedes usar cualquier nombre que desees. Asegurate que la función sea más legible mediante el uso de nombres de variables que están asociados con las entradas, como `*minutes` y `**fuel_reservoirs`:"
      ]
    },
    {
      "cell_type": "code",
      "execution_count": 8,
      "metadata": {},
      "outputs": [
        {
          "name": "stdout",
          "output_type": "stream",
          "text": [
            "\n",
            "    Misión a Luna\n",
            "    Tiempo total de viaje: 76 minutes\n",
            "    Combustibñe restante: 500000\n",
            "    \n"
          ]
        }
      ],
      "source": [
        "def reporte(destino, *minutos, **reservas_de_combustible):\n",
        "    return f\"\"\"\n",
        "    Misión a {destino}\n",
        "    Tiempo total de viaje: {sum(minutos)} minutes\n",
        "    Combustible restante: {sum(reservas_de_combustible.values())}\n",
        "    \"\"\"\n",
        "\n",
        "print(reporte(\"Luna\", 10, 15, 51, main=300000, external=200000))"
      ]
    },
    {
      "cell_type": "markdown",
      "metadata": {},
      "source": [
        "Debido a que el combustible que queda en los tanques es específico de cada tanque, actualiza la función para usar el nombre de cada tanque en el informe:"
      ]
    },
    {
      "cell_type": "code",
      "execution_count": 13,
      "metadata": {},
      "outputs": [
        {
          "name": "stdout",
          "output_type": "stream",
          "text": [
            "\n",
            "    Misión a Luna\n",
            "    Tiempo total de viaje: 74 minutos\n",
            "    Combustible restante: 500000\n",
            "    tanque principal  --> 300000 galones restantes\n",
            "tanque externo  --> 200000 galones restantes\n",
            "\n"
          ]
        }
      ],
      "source": [
        "def mission_report(destino, *minutos, **reservas_de_combustible):\n",
        "    main_report = f\"\"\"\n",
        "    Misión a {destino}\n",
        "    Tiempo total de viaje: {sum(minutos)} minutos\n",
        "    Combustible restante: {sum(reservas_de_combustible.values())}\n",
        "    \"\"\"\n",
        "    for tank_name, gallons in reservas_de_combustible.items():\n",
        "        main_report += f\"tanque {tank_name}  --> {gallons} galones restantes\\n\"\n",
        "    return main_report\n",
        "\n",
        "print(mission_report(\"Luna\", 8, 11, 55, principal=300000, externo=200000))"
      ]
    }
  ],
  "metadata": {
    "interpreter": {
      "hash": "205095b8b86ea82a021a8fc2ffba2b3bc9f8d0be25999901963b225939f75778"
    },
    "kernelspec": {
      "display_name": "Python 3.8.10 64-bit ('tmp': conda)",
      "name": "python3"
    },
    "language_info": {
      "codemirror_mode": {
        "name": "ipython",
        "version": 3
      },
      "file_extension": ".py",
      "mimetype": "text/x-python",
      "name": "python",
      "nbconvert_exporter": "python",
      "pygments_lexer": "ipython3",
      "version": "3.10.2"
    },
    "nteract": {
      "version": "nteract-front-end@1.0.0"
    },
    "orig_nbformat": 4
  },
  "nbformat": 4,
  "nbformat_minor": 2
}
